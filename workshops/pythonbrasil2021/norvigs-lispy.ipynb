{
 "cells": [
  {
   "cell_type": "markdown",
   "id": "ded9b96c",
   "metadata": {},
   "source": [
    "# O `lis.py` de Norvig\n",
    "\n",
    "\n",
    "![Norvig's lispy](lispy.png)"
   ]
  },
  {
   "cell_type": "markdown",
   "id": "9e53b947",
   "metadata": {},
   "source": [
    "Contents:\n",
    "\n",
    "* [Introdução](#Introdução)\n",
    "* [Sintaxe de Scheme](#Sintaxe-de-Scheme)\n",
    "* [Imports and types](#Imports-and-types)\n",
    "* [The Parser](#The-Parser)\n",
    "  * [Exercise 0](#Exercise-0)\n",
    "* [The Built-in Environment](#The-Built-in-Environment)\n",
    "* [A Calculator](#A-Calculator)\n",
    "* [Non-interactive execution](#Non-interactive-execution)\n",
    "  * [Exercise 1](#Exercise-1)\n",
    "  * [Exercise 2](#Exercise-2)\n",
    "* [User defined procedures](#User-defined-procedures)\n",
    "* [A more complete environment](#A-more-complete-environment)\n",
    "* [`Procedure`: a class to represent a closure](#Procedure:-a-class-to-represent-a-closure)\n",
    "* [Evaluate with `lambda`, `if`, and `quote`](#Evaluate-with-lambda,-if,-and-quote)\n",
    "* [The REPL](#The-REPL)\n",
    "* [Examples](#Examples)\n",
    "* [Syntactic sugar](#Syntactic-sugar)\n",
    "\n",
    "> **LICENSES**:<br>\n",
    "  Code © 2010-2018 Peter Norvig, [MIT License](https://github.com/fluentpython/lispy/blob/main/LICENSE)<br>\n",
    "  Text © 2022 Luciano Ramalho, [Creative Commons Attribution 4.0 International](https://creativecommons.org/licenses/by/4.0/)\n"
   ]
  },
  {
   "cell_type": "markdown",
   "id": "2ab26756",
   "metadata": {},
   "source": [
    "## Introdução\n",
    "\n",
    "[Peter Norvig](https://norvig.com/) da universidade Stanford criou\n",
    "[`lis.py`](https://github.com/norvig/pytudes/blob/main/py/lis.py):\n",
    "um interpretador em 132 linhas de código Python legível,\n",
    "para parte da linguagem Scheme—um dialeto de Lisp.\n",
    "\n",
    "Porque você deveria estudar `lis.py`?\n",
    "Para mim esses foram alguns motivos:\n",
    "\n",
    "* Depeois de aprender como funciona um interpretador,\n",
    "passei a entender com mais profundidade como funciona a Python e linguagens em geral—interpretadas ou compiladas.\n",
    "\n",
    "* A simplicidade de Scheme é uma aula magna de design de linguagens;\n",
    "\n",
    "* `lis.py` é um lindo exemplo de código Python idiomático.\n",
    "\n",
    "Norvig descreve `lis.py` em um texto intitulado. \n",
    "[(How to Write a (Lisp) Interpreter (in Python))](https://norvig.com/lispy.html). Altamente recomendado.\n",
    "\n",
    "Antes de examinar o código do interpretador em Python, vamos ver um pouco de Scheme—caso você nunca tenha visto essa linguagem ou Lisp anteriormente."
   ]
  },
  {
   "cell_type": "markdown",
   "id": "feabd3c3",
   "metadata": {},
   "source": [
    "## Sintaxe de Scheme\n",
    "\n",
    "Todo código Scheme é formado por expressões.\n",
    "Não existem operadores infixos:\n",
    "todas as expressões usam notação prefixa como \n",
    "`(+ x 13)` em vez de `x + 13`.\n",
    "A mesma notação prefixa é usada para chamadas de funções—ex. `(gcd x 13)`—e\n",
    "instruções especiais—ex. `(define x 13)`, que corresponde à\n",
    "instrução de atribuição em Python: `x = 13`.\n",
    "\n",
    "A notação usada em Scheme e na maioria dos dialetos de Lisp (como Clojure) é chamada de _S-expression_ ou _expressão-S_.\n",
    "\n",
    "Eis um exemplo simples em Scheme, para calcular o máximo divisor comum:\n",
    "\n",
    "\n",
    "```lisp\n",
    "(define (resto m n)\n",
    "    (- m (* n (quotient m n))))\n",
    "\n",
    "(define (mdc m n)\n",
    "    (if (= n 0)\n",
    "        m\n",
    "        (mdc n (resto m n))))\n",
    "\n",
    "(display (mdc 18 45))\n",
    "```"
   ]
  },
  {
   "cell_type": "markdown",
   "id": "77d983a7",
   "metadata": {},
   "source": [
    "O mesmo algoritmo em Python:"
   ]
  },
  {
   "cell_type": "code",
   "execution_count": null,
   "id": "81e553c3",
   "metadata": {},
   "outputs": [],
   "source": [
    "def resto(m, n):\n",
    "    return m - (m // n * n)\n",
    "\n",
    "def mdc(m, n):\n",
    "    if n == 0:\n",
    "        return m\n",
    "    else:\n",
    "        return mdc(n, resto(m, n))\n",
    "\n",
    "print(mdc(18, 45))"
   ]
  },
  {
   "cell_type": "markdown",
   "id": "ec042161",
   "metadata": {},
   "source": [
    "> **DICA**: Clique na célua acima para selecioná-la, então tecle `【CTRL】【ENTER】` para executá-la.\n",
    "<br>O resultado aparecerá abaixo da célula.\n",
    "\n",
    "Scheme não tem estruturas de laço como `while` ou `for`.\n",
    "Iteração é feita através de recursão.\n",
    "Note como não há atribuições nos exemplos em Scheme ou Python acima.\n",
    "O uso extensivo de recursão e o uso reduzido de atribuição\n",
    "são duas características típicas de programação em um estilo funcional.\n",
    "\n",
    "Em Python idiomático eu usaria o operador `%` em vez de reinventar `resto`,\n",
    "e seria mais eficiente usar um laço `while` do que recursão.\n",
    "Mas eu queria mostrar duas definições de funções, e\n",
    "que os exemplos ficassem parecidos para ajudar você a ler o código em Scheme.\n",
    "\n",
    "Agora vamos estudar o código de uma versão de `lis.py` para Python 3.7.\n",
    "O código completo com testes para Python 3.10 você pode encontrar no diretório\n",
    "[18-with-match/lispy/py3.10/](https://github.com/fluentpython/example-code-2e/tree/master/18-with-match/lispy/py3.10/)\n",
    "do repositório [fluentpython/example-code-2e](https://github.com/fluentpython/example-code-2e)."
   ]
  },
  {
   "cell_type": "markdown",
   "id": "ce316812",
   "metadata": {
    "tags": []
   },
   "source": [
    "## Imports e tipos\n",
    "\n",
    "O código escrito pelo Norvig não usa anotações de tipo, adicionei as anotações e fiz mais algumas pequenas mudanças.\n",
    "\n",
    "Esse notebook usa Python 3.7 para rodar no [Binder](https://mybinder.org/), portanto precisamos importar alguns tipos de coleções do módulo `typing`.\n",
    "\n",
    "> **DICA**: Clique na célula abaixo para selecioná-la e então aperte `【SHIFT】【ENTER】` para executá-la e selecionar a próxima célula.<br>Use `【CTRL】【ENTER】` para executar a célula e manter ela selecionada.<br>Use esses comandos para executar as células conforme você segue."
   ]
  },
  {
   "cell_type": "code",
   "execution_count": null,
   "id": "a42402f9",
   "metadata": {},
   "outputs": [],
   "source": [
    "import sys\n",
    "assert sys.version_info >= (3, 7), f'Esperado Python ≥ 3.7; instalado: {sys.version}'\n",
    "sys.version"
   ]
  },
  {
   "cell_type": "code",
   "execution_count": null,
   "id": "4d1a14aa",
   "metadata": {},
   "outputs": [],
   "source": [
    "################ lis.py: Scheme Interpreter in Python 3.10\n",
    "## (c) Peter Norvig, 2010-18; See http://norvig.com/lispy.html\n",
    "## Type hints and minor additions by Luciano Ramalho\n",
    "\n",
    "import math\n",
    "import operator as op\n",
    "from collections import ChainMap\n",
    "from itertools import chain\n",
    "from typing import Any, NoReturn\n",
    "from typing import Union, List, MutableMapping, Optional, Iterator\n",
    "\n",
    "Symbol = str\n",
    "Atom = Union[float, int, Symbol]\n",
    "Expression = Union[Atom, List]\n",
    "\n",
    "Environment = MutableMapping[Symbol, object]"
   ]
  },
  {
   "cell_type": "markdown",
   "id": "24ae27c8",
   "metadata": {},
   "source": [
    "Os tipos são definidos são:\n",
    "\n",
    "`Symbol`: É apenas um apelido para o tipo `str`. Em _list.py_, `Symbol` é utilizado pelos identificadores,\n",
    "não há nenhum tipo que seja string com operaçoẽs como slicing, splitting etc.\n",
    "\n",
    "`Atom`: Um elemento simples de sintaxe como um número ou um `Symbol`, um `Atom` é o contrário de uma estrutura composta de diversas partes como uma lista.\n",
    "\n",
    "`Expression`: Programas escritos utilizando Scheme são compostos por expressões feitas com `Atoms` e listas, que provavelmente estarão aninhadas.\n",
    "\n",
    "> **NOTA**: O segundo interpretador escrito pelo Norvigs,\n",
    "[`lispy.py`](https://github.com/fluentpython/example-code-2e/blob/master/18-with-match/lispy/original/lispy.py),\n",
    "suporta string como um tipo, assim como também aceitar funcionalidades avançadas como macros de sintax,\n",
    "continuations e tail calls.\n",
    "No entanto, `lispy.py` é quase três vezes mais longo do que o `lis.py` e mais difícil de entender."
   ]
  },
  {
   "cell_type": "markdown",
   "id": "64b8235b",
   "metadata": {},
   "source": [
    "## The Parser\n",
    "\n",
    "Norvig's parser is 36 lines of code showcasing the power of Python applied to handling the\n",
    "simple recursive syntax of S-expression—without string data,\n",
    "comments, macros, and other features of standard Scheme that make parsing more complicated (these features are implemented in `lispy.py`)."
   ]
  },
  {
   "cell_type": "code",
   "execution_count": null,
   "id": "afd17d24",
   "metadata": {},
   "outputs": [],
   "source": [
    "def parse(program: str) -> Expression:\n",
    "    \"Read a Scheme expression from a string.\"\n",
    "    return read_from_tokens(tokenize(program))\n",
    "\n",
    "def tokenize(s: str) -> List[str]:\n",
    "    \"Convert a string into a list of tokens.\"\n",
    "    return s.replace('(', ' ( ').replace(')', ' ) ').split()\n",
    "\n",
    "def read_from_tokens(tokens: List[str]) -> Expression:\n",
    "    \"Read an expression from a sequence of tokens.\"\n",
    "    if len(tokens) == 0:\n",
    "        raise SyntaxError('unexpected EOF while reading')\n",
    "    token = tokens.pop(0)\n",
    "    if '(' == token:\n",
    "        exp = []\n",
    "        while tokens[0] != ')':\n",
    "            exp.append(read_from_tokens(tokens))\n",
    "        tokens.pop(0)  # discard ')'\n",
    "        return exp\n",
    "    elif ')' == token:\n",
    "        raise SyntaxError('unexpected )')\n",
    "    else:\n",
    "        return parse_atom(token)\n",
    "\n",
    "def parse_atom(token: str) -> Atom:\n",
    "    \"Numbers become numbers; every other token is a symbol.\"\n",
    "    try:\n",
    "        return int(token)\n",
    "    except ValueError:\n",
    "        try:\n",
    "            return float(token)\n",
    "        except ValueError:\n",
    "            return Symbol(token)"
   ]
  },
  {
   "cell_type": "markdown",
   "id": "28645a00",
   "metadata": {},
   "source": [
    "The main function of that group is `parse` which takes an S-expressions as a `str`\n",
    "and returns an `Expression` object: an `Atom` or a `list` that may contain more atoms and nested lists.\n",
    "\n",
    "Norvig uses a smart trick in `tokenize`:\n",
    "he adds spaces before and after each parenthesis in the input and then splits it,\n",
    "resulting in a list of syntactic tokens with `'('` and `')'`\n",
    "as separate tokens.\n",
    "This shortcut works because there is no string type in the little Scheme of _lis.py_, so every `'('` or `')'` is an expression delimiter.\n",
    "The recursive parsing code is in `read_from_tokens`.\n",
    "I will not explain it now because I want to focus on the other parts of the interpreter.\n",
    "\n",
    "Below are some examples of the top-level `parse` function.\n",
    "\n",
    "> **TIP**:  To run the code in each cell and select the next, use `【SHIFT】【ENTER】`.<br>\n",
    "If you get `NameError: name 'parse' is not defined`, use the menu command ***Cell > Run All Above***."
   ]
  },
  {
   "cell_type": "code",
   "execution_count": null,
   "id": "f4edf5e7",
   "metadata": {},
   "outputs": [],
   "source": [
    "parse('1.5')"
   ]
  },
  {
   "cell_type": "code",
   "execution_count": null,
   "id": "b1428c3b",
   "metadata": {},
   "outputs": [],
   "source": [
    "parse('ni!')"
   ]
  },
  {
   "cell_type": "code",
   "execution_count": null,
   "id": "99225447",
   "metadata": {},
   "outputs": [],
   "source": [
    "parse('''\n",
    "  (define double\n",
    "    (lambda (n)\n",
    "      (* n 2)))\n",
    "''')"
   ]
  },
  {
   "cell_type": "markdown",
   "id": "345d5f3d",
   "metadata": {},
   "source": [
    "The parsing rules for this subset of Scheme are simple:\n",
    "\n",
    "1. A token that looks like a number is parsed as a `float` or `int`.\n",
    "2. Anything else that is not `'('` or `')'` is parsed as a `Symbol`—a `str` to be used as an identifier. This includes source text like `+`, `set!`, and `make-counter` that are valid identifiers in Scheme but not in Python.\n",
    "3. Expressions inside `'('` and `')'` are recursively parsed as lists containing atoms or nested lists that may contain atoms and more nested lists.\n",
    "\n",
    "Using terminology of the Python interpreter, the output of `parse` is an **AST** (Abstract Syntax Tree):\n",
    "a convenient representation of the Scheme program as nested lists forming a tree-like structure,\n",
    "where the outermost list is the trunk, inner lists are the branches, and atoms are the leaves."
   ]
  },
  {
   "cell_type": "markdown",
   "id": "e253259b",
   "metadata": {},
   "source": [
    "### Exercise 0\n",
    "\n",
    "Replace the ellipis `...` with the AST for the given S-expressions, to make the comparison `True`.\n",
    "To run the code in the cell, hit `【CTRL】【ENTER】`. "
   ]
  },
  {
   "cell_type": "code",
   "execution_count": null,
   "id": "9e9dc8a0",
   "metadata": {},
   "outputs": [],
   "source": [
    "parse('9') == ..."
   ]
  },
  {
   "cell_type": "code",
   "execution_count": null,
   "id": "4cd69579",
   "metadata": {},
   "outputs": [],
   "source": [
    "parse('x/y') == ..."
   ]
  },
  {
   "cell_type": "code",
   "execution_count": null,
   "id": "fb69472b",
   "metadata": {
    "scrolled": true
   },
   "outputs": [],
   "source": [
    "parse('(+ 3 7)') == ..."
   ]
  },
  {
   "cell_type": "code",
   "execution_count": null,
   "id": "84b5f022",
   "metadata": {
    "scrolled": true
   },
   "outputs": [],
   "source": [
    "parse('(* c (/ 9 5))') == ..."
   ]
  },
  {
   "cell_type": "code",
   "execution_count": null,
   "id": "bd9a131f",
   "metadata": {
    "scrolled": true
   },
   "outputs": [],
   "source": [
    "parse('(+ 32 (* (/ 9 5) c ))') == ..."
   ]
  },
  {
   "cell_type": "markdown",
   "id": "d7213529",
   "metadata": {},
   "source": [
    "## Built-in Environment for a Calculator\n",
    "\n",
    "\n",
    "The `standard_env()` function builds and returns an `Environment` loaded\n",
    "with predefined functions, similar to Python's `__builtins__` module that is always available."
   ]
  },
  {
   "cell_type": "code",
   "execution_count": null,
   "id": "a90ce06f",
   "metadata": {},
   "outputs": [],
   "source": [
    "def standard_env() -> Environment:\n",
    "    \"An environment for an s-expression calculator.\"\n",
    "    env: Environment = {}\n",
    "    env.update(vars(math))   # sin, cos, sqrt, pi, ...\n",
    "    env.update(\n",
    "        {\n",
    "            '+': op.add,\n",
    "            '-': op.sub,\n",
    "            '*': op.mul,\n",
    "            '/': op.truediv,\n",
    "            'quotient': op.floordiv,\n",
    "            '>': op.gt,\n",
    "            '<': op.lt,\n",
    "            '>=': op.ge,\n",
    "            '<=': op.le,\n",
    "            '=': op.eq,\n",
    "            'abs': abs,\n",
    "            'begin': lambda *x: x[-1],\n",
    "            'eq?': op.is_,\n",
    "            'equal?': op.eq,\n",
    "            'max': max,\n",
    "            'min': min,\n",
    "            'not': op.not_,\n",
    "            'number?': lambda x: isinstance(x, (int, float)),\n",
    "            'procedure?': callable,\n",
    "            'round': round,\n",
    "            'symbol?': lambda x: isinstance(x, Symbol),\n",
    "        }\n",
    "    )\n",
    "    return env"
   ]
  },
  {
   "cell_type": "markdown",
   "id": "d2b3884a",
   "metadata": {},
   "source": [
    "The `env` mapping is loaded with:\n",
    "\n",
    "* all functions from Python's `math` module;\n",
    "* selected operators from Python's `op` module;\n",
    "* simple but powerful functions built with Python's `lambda`;\n",
    "* Python built-ins renamed like `callable` as `procedure?` or directly mapped like `round`."
   ]
  },
  {
   "cell_type": "markdown",
   "id": "ef2a871e",
   "metadata": {},
   "source": [
    "## Uma calculadora\n",
    "\n",
    "A primeira versão do `evaluate` trata expressões usando funções embutidas e váriavies definidas pela usuária. \n",
    "\n",
    "> **NOTA**: o parser de Norvig é simples e sólido, mas seu avaliador é simples e frágil. Ele omitiu a verificação de erros para manter a lógica simples de ser acompanhada. Nas palavras dele: \"Lispy não tenta detectar, reportar razoavelmente, ou se recuperar de erros. Lispy espera que o programador seja perfeito.\" ([fonte](https://norvig.com/lispy.html)).\n",
    "\n"
   ]
  },
  {
   "cell_type": "code",
   "execution_count": null,
   "id": "cb1b716e",
   "metadata": {},
   "outputs": [],
   "source": [
    "def evaluate(x: Expression, env: Environment) -> Any:\n",
    "    \"Evaluate an expression in an environment.\"\n",
    "    if isinstance(x, Symbol):                    # variable reference\n",
    "        return env[x]\n",
    "    elif not isinstance(x, list):                # constant literal\n",
    "        return x\n",
    "    elif x[0] == 'define':                       # (define var exp)\n",
    "        _, var, exp = x\n",
    "        env[var] = evaluate(exp, env)\n",
    "    else:                                        # (proc arg...)\n",
    "        proc_exp, *args = x\n",
    "        proc = evaluate(proc_exp, env)\n",
    "        arg_values = [evaluate(exp, env) for exp in args]\n",
    "        return proc(*arg_values)"
   ]
  },
  {
   "cell_type": "markdown",
   "id": "fdad8326",
   "metadata": {},
   "source": [
    "Execute esses exemplos para ver o `evaluate` em ação.\n",
    "\n",
    "Um quadrado curioso:"
   ]
  },
  {
   "cell_type": "code",
   "execution_count": null,
   "id": "3f52d42e",
   "metadata": {},
   "outputs": [],
   "source": [
    "evaluate(parse('(* 11111 11111)'), standard_env())"
   ]
  },
  {
   "cell_type": "markdown",
   "id": "4bfe7679",
   "metadata": {},
   "source": [
    "Se existem 876 candidatas e 123 foram aprovadas, que porcentagem foi aprovada?"
   ]
  },
  {
   "cell_type": "code",
   "execution_count": null,
   "id": "40f463a3",
   "metadata": {},
   "outputs": [],
   "source": [
    "evaluate(parse('(* (/ 123 876) 100)'), standard_env())"
   ]
  },
  {
   "cell_type": "markdown",
   "id": "7bce9ee9",
   "metadata": {},
   "source": [
    "Agora vamos estudar cada parte do `if/elif/...` em `evaluate`."
   ]
  },
  {
   "cell_type": "markdown",
   "id": "87fc5a27",
   "metadata": {},
   "source": [
    "### Evaluate Symbol \n",
    "\n",
    "```python\n",
    "    if isinstance(x, Symbol):\n",
    "        return env[x]\n",
    "```\n",
    "\n",
    "Se a expressão é um `Symbol`, então procure no ambiente."
   ]
  },
  {
   "cell_type": "code",
   "execution_count": null,
   "id": "86b44c93",
   "metadata": {},
   "outputs": [],
   "source": [
    "evaluate('pi', standard_env())"
   ]
  },
  {
   "cell_type": "code",
   "execution_count": null,
   "id": "c00e63f5",
   "metadata": {},
   "outputs": [],
   "source": [
    "evaluate('+', standard_env())"
   ]
  },
  {
   "cell_type": "markdown",
   "id": "dcab21b5",
   "metadata": {},
   "source": [
    "### Evaluate outros atoms\n",
    "\n",
    "```python\n",
    "    elif not isinstance(x, list):\n",
    "        return x\n",
    "```\n",
    "\n",
    "Se a expressão não é um `list`e nem um `Symbol` (devido à verificação anterior), então assuma que é uma constante literal e retorne como está. "
   ]
  },
  {
   "cell_type": "code",
   "execution_count": null,
   "id": "2fe7295e",
   "metadata": {},
   "outputs": [],
   "source": [
    "evaluate(1.5, standard_env())"
   ]
  },
  {
   "cell_type": "markdown",
   "id": "e5e40c52",
   "metadata": {},
   "source": [
    "### Evaluate `(define var exp)`\n",
    "\n",
    "```python\n",
    "    elif x[0] == 'define':\n",
    "        _, var, exp = x\n",
    "        env[var] = evaluate(exp, env)\n",
    "```\n",
    "\n",
    "Se a expressão é um `list` começando com a palavra-chave `define`, então deveria ser seguido por um `Symbol` e uma `Expression`. Recursivamente avalie a expressão no ambiente e armazene em `env` usando o `Symbol` como chave."
   ]
  },
  {
   "cell_type": "code",
   "execution_count": null,
   "id": "8704b911",
   "metadata": {},
   "outputs": [],
   "source": [
    "env = standard_env()\n",
    "evaluate(parse('(define answer (* 7 6))'), env)\n",
    "env['answer']"
   ]
  },
  {
   "cell_type": "markdown",
   "id": "453d0685",
   "metadata": {},
   "source": [
    "### Evaluate chamada de função `(proc arg…)`\n",
    "\n",
    "```python\n",
    "    else:\n",
    "        proc_exp, *args = x\n",
    "        proc = evaluate(proc_exp, env)\n",
    "        arg_values = [evaluate(exp, env) for exp in args]\n",
    "        return proc(*arg_values)\n",
    "```\n",
    "\n",
    "Se a expressão é um `list` que não começa com a palavra-chave, então: \n",
    "\n",
    "1. Avalie a primeira expressão - deveria retornar uma procedure (também conhecida como função).\n",
    "2. Avalie as expressões restantes (os valores dos argumentos).\n",
    "3. Chame a procedure com os valores dos argumentos."
   ]
  },
  {
   "cell_type": "code",
   "execution_count": null,
   "id": "45ee8a66",
   "metadata": {},
   "outputs": [],
   "source": [
    "evaluate(['quotient', 8, 3], standard_env())"
   ]
  },
  {
   "cell_type": "code",
   "execution_count": null,
   "id": "dec638e4",
   "metadata": {},
   "outputs": [],
   "source": [
    "evaluate(['*', ['/', 123, 876], 100], standard_env())"
   ]
  },
  {
   "cell_type": "markdown",
   "id": "f17e66a3",
   "metadata": {},
   "source": [
    "`evaluate` consegue processar expressões profundamentes aninhadas, mas somente uma expressão no nível mais alto. Para agrupar várias expressões e uma só, use a função `(begin...)`. Todos os argumentos após o `begin` são avaliados antes que o `begin` seja chamado, e o `begin` retorna o valor do último argumento. Por exemplo: "
   ]
  },
  {
   "cell_type": "code",
   "execution_count": null,
   "id": "0bf57dc2",
   "metadata": {},
   "outputs": [],
   "source": [
    "env = standard_env()\n",
    "percent = \"\"\"\n",
    "(begin\n",
    "  (define a 126)\n",
    "  (define b (* 6 50))\n",
    "  (* (/ a b) 100)\n",
    ")\n",
    "\"\"\"\n",
    "evaluate(parse(percent), env)"
   ]
  },
  {
   "cell_type": "markdown",
   "id": "507ac57e",
   "metadata": {},
   "source": [
    "Após o último código, `env` agora possui duas variáveis: `a` e `b`."
   ]
  },
  {
   "cell_type": "code",
   "execution_count": null,
   "id": "b84328e5",
   "metadata": {},
   "outputs": [],
   "source": [
    "env['a'], env['b']"
   ]
  },
  {
   "cell_type": "markdown",
   "id": "43a37fc7",
   "metadata": {},
   "source": [
    "A função `run()` avalia uma string de uma ou mais S-expressions como um programa."
   ]
  },
  {
   "cell_type": "markdown",
   "id": "dd428f83",
   "metadata": {},
   "source": [
    "## Non-interactive execution with `run()`\n",
    "\n",
    "The following functions take Scheme source code as a string and execute it."
   ]
  },
  {
   "cell_type": "code",
   "execution_count": null,
   "id": "e8ceba06",
   "metadata": {},
   "outputs": [],
   "source": [
    "def run_lines(source: str, env: Optional[Environment] = None) -> Iterator[Any]:\n",
    "    global_env: Environment = ChainMap({}, standard_env())\n",
    "    if env is not None:\n",
    "        global_env.update(env)\n",
    "    tokens = tokenize(source)\n",
    "    while tokens:\n",
    "        exp = read_from_tokens(tokens)\n",
    "        yield evaluate(exp, global_env)\n",
    "\n",
    "\n",
    "def run(source: str, env: Optional[Environment] = None) -> Any:\n",
    "    for result in run_lines(source, env):\n",
    "        pass\n",
    "    return result"
   ]
  },
  {
   "cell_type": "markdown",
   "id": "05497541",
   "metadata": {},
   "source": [
    "With `run()` we don't need `(begin …)` to evaluate several expressions—but `begin` is still useful in other situations."
   ]
  },
  {
   "cell_type": "code",
   "execution_count": null,
   "id": "ebe534e1",
   "metadata": {},
   "outputs": [],
   "source": [
    "percent = \"\"\"\n",
    "(define a 126)\n",
    "(define b (* 6 50))\n",
    "(* (/ a b) 100)\n",
    "\"\"\"\n",
    "run(percent)"
   ]
  },
  {
   "cell_type": "markdown",
   "id": "13c21922",
   "metadata": {},
   "source": [
    "### Exercise 1\n",
    "\n",
    "This is the formula to convert temperatures from Celsius to Fahrenheit:\n",
    "\n",
    "`f = (9 / 5) * c + 32`\n",
    "\n",
    "Here is the code to convert 20°C to °F:"
   ]
  },
  {
   "cell_type": "code",
   "execution_count": null,
   "id": "ebaa88ba",
   "metadata": {},
   "outputs": [],
   "source": [
    "c_to_f = \"\"\"\n",
    "(define c 20)\n",
    "(+ 32 (* c (/ 9 5)))\n",
    "\"\"\"\n",
    "run(c_to_f)"
   ]
  },
  {
   "cell_type": "markdown",
   "id": "8f7682f4",
   "metadata": {},
   "source": [
    "The inverse conversion function is:\n",
    "\n",
    "`c = (f − 32) * 5 / 9`\n",
    "\n",
    "In the code below, replace `(+ 1 2)` with the expression to convert 68°F to °C."
   ]
  },
  {
   "cell_type": "code",
   "execution_count": null,
   "id": "16d48908",
   "metadata": {},
   "outputs": [],
   "source": [
    "f_to_c = \"\"\"\n",
    "(define f 68)\n",
    "(+ 1 2)\n",
    "\"\"\"\n",
    "run(f_to_c)"
   ]
  },
  {
   "cell_type": "markdown",
   "id": "ada4cdeb",
   "metadata": {},
   "source": [
    "### Exercise 2\n",
    "\n",
    "Python's `math` module includes a `factorial` function, which is part of the environment returned by `standard_env`:"
   ]
  },
  {
   "cell_type": "code",
   "execution_count": null,
   "id": "c2509e45",
   "metadata": {},
   "outputs": [],
   "source": [
    "run('(factorial 10)')"
   ]
  },
  {
   "cell_type": "markdown",
   "id": "e93984ea",
   "metadata": {},
   "source": [
    "Scheme accepts `!` as an identifier. Your task is to make Python's `factorial` available through the `!` symbol in Scheme.\n",
    "\n",
    "**Step 2.1** Uncomment the expression below and run it to see an error. Look at the last line of the error output. What is the error? Do you understand why that is the error?"
   ]
  },
  {
   "cell_type": "code",
   "execution_count": null,
   "id": "6e9d40f9",
   "metadata": {},
   "outputs": [],
   "source": [
    "# run('(! 10)') == 3628800"
   ]
  },
  {
   "cell_type": "markdown",
   "id": "0b2493e6",
   "metadata": {},
   "source": [
    "**Step 2.2.** Edit the `standard_env` function above to add an entry for `!`,\n",
    "mapping to Python's `math.factorial` function.\n",
    "\n",
    "**Step 2.3.** Run the expression above to confirm that the result is `True`.\n"
   ]
  },
  {
   "cell_type": "markdown",
   "id": "ef82c502",
   "metadata": {},
   "source": [
    "### Exercise 3\n",
    "\n",
    "In standard Scheme, the `+` operator is variadic, i.e. it accepts any number of arguments.\n",
    "With 0 arguments, `(+)` returns `0`; otherwise it returns the sum of all arguments.\n",
    "\n",
    "**Step 3.1.** Uncomment the expression below and run it to see an error. Does the error make sense to you?"
   ]
  },
  {
   "cell_type": "code",
   "execution_count": null,
   "id": "66ae240b",
   "metadata": {},
   "outputs": [],
   "source": [
    "# run('(= 10 (+ 1 2 3 4))')"
   ]
  },
  {
   "cell_type": "markdown",
   "id": "914a62cf",
   "metadata": {},
   "source": [
    "**Step 3.2.** Edit the `standard_env` function above to re-implement `+` to make the expression above return `True`.\n",
    "\n",
    "> **HINT 3.2.1**: Hidden below is the source code for a variadic version of Python's `sum()`. Consider doing the exercise without revealing the hint. To reveal the code, uncomment the `print()` line and run the cell. "
   ]
  },
  {
   "cell_type": "code",
   "execution_count": null,
   "id": "2ef0e9c2",
   "metadata": {},
   "outputs": [],
   "source": [
    "from base64 import b64decode\n",
    "blob = (b'ZGVmIHZhcmlhZGljX3N1bSgqYXJncyk6CiAgICByZXR1cm4g'\n",
    "        b'c3VtKGFyZ3MpCgp2YXJpYWRpY19zdW0oMSwgMiwgMywgNCk=')\n",
    "# print(b64decode(blob).decode('utf8'))"
   ]
  },
  {
   "cell_type": "markdown",
   "id": "71f39dc3",
   "metadata": {},
   "source": [
    "> **HINT 3.2.2**: the same function in a single line of Python. Try to do the exercise without revealing the hint. To reveal it, uncomment the `print()` line and run the cell. "
   ]
  },
  {
   "cell_type": "code",
   "execution_count": null,
   "id": "928b1e31",
   "metadata": {},
   "outputs": [],
   "source": [
    "blob = b'ZiA9IGxhbWJkYSAqYXJnczogc3VtKGFyZ3MpCmYoMSwgMiwgMywgNCk='\n",
    "# print(b64decode(blob).decode('utf8'))"
   ]
  },
  {
   "cell_type": "markdown",
   "id": "1705d5f4",
   "metadata": {},
   "source": [
    "## A more complete environment"
   ]
  },
  {
   "cell_type": "markdown",
   "id": "6f58b3c0",
   "metadata": {},
   "source": [
    "This new version of `standard_env()` defines functions that handle lists."
   ]
  },
  {
   "cell_type": "code",
   "execution_count": null,
   "id": "22ba8355",
   "metadata": {},
   "outputs": [],
   "source": [
    "def standard_env() -> Environment:\n",
    "    \"An environment with some Scheme standard procedures.\"\n",
    "    env: Environment = {}\n",
    "    env.update(vars(math))   # sin, cos, sqrt, pi, ...\n",
    "    env.update(\n",
    "        {\n",
    "            '+': op.add,\n",
    "            '-': op.sub,\n",
    "            '*': op.mul,\n",
    "            '/': op.truediv,\n",
    "            'quotient': op.floordiv,\n",
    "            '>': op.gt,\n",
    "            '<': op.lt,\n",
    "            '>=': op.ge,\n",
    "            '<=': op.le,\n",
    "            '=': op.eq,\n",
    "            'abs': abs,\n",
    "            'append': lambda *args: list(chain(*args)),          \n",
    "            'apply': lambda proc, args: proc(*args),\n",
    "            'begin': lambda *x: x[-1],\n",
    "            'car': lambda x: x[0],\n",
    "            'cdr': lambda x: x[1:],\n",
    "            'cons': lambda x, y: [x] + y,\n",
    "            'eq?': op.is_,\n",
    "            'equal?': op.eq,\n",
    "            'filter': lambda *args: list(filter(*args)),\n",
    "            'length': len,\n",
    "            'list': lambda *x: list(x),\n",
    "            'list?': lambda x: isinstance(x, list),\n",
    "            'map': lambda *args: list(map(*args)),\n",
    "            'max': max,\n",
    "            'min': min,\n",
    "            'not': op.not_,\n",
    "            'null?': lambda x: x == [],\n",
    "            'number?': lambda x: isinstance(x, (int, float)),\n",
    "            'procedure?': callable,\n",
    "            'round': round,\n",
    "            'symbol?': lambda x: isinstance(x, Symbol),\n",
    "        }\n",
    "    )\n",
    "    return env"
   ]
  },
  {
   "cell_type": "markdown",
   "id": "d03c19f2",
   "metadata": {},
   "source": [
    "## `Procedure`: a class to represent a closure\n",
    "\n",
    "The next improvement to `evaluate()` will include the `(lambda …)` form to allow user-defined functions (the authors of Scheme prefer the term *procedure*). To support `lambda`, we need a class to represent a procedure:"
   ]
  },
  {
   "cell_type": "code",
   "execution_count": null,
   "id": "10b578e6",
   "metadata": {},
   "outputs": [],
   "source": [
    "class Procedure:\n",
    "    \"A user-defined Scheme procedure.\"\n",
    "\n",
    "    def __init__(self, parms: List[Symbol], body: Expression, env: Environment):\n",
    "        self.parms = parms\n",
    "        self.body = body\n",
    "        self.env = env\n",
    "\n",
    "    def __call__(self, *args: Expression) -> Any:\n",
    "        local_env = dict(zip(self.parms, args))\n",
    "        env: Environment = ChainMap(local_env, self.env)\n",
    "        return evaluate(self.body, env)"
   ]
  },
  {
   "cell_type": "markdown",
   "id": "33a6059a",
   "metadata": {},
   "source": [
    "The `Procedure` class could very well be named `Closure`,\n",
    "because that's what it represents:\n",
    "a function definition together with an environment captured when the function is defined.\n",
    "The required parameters to create a `Procedure` are:\n",
    "\n",
    "`parms`: the function parameter names as a list of symbols. This list may be empty.\n",
    "\n",
    "`body`: the body of the function as an expression to be evaluated when the function is invoked.\n",
    "\n",
    "`env`: the environment where the function is created. This is what makes it a [*closure*](https://en.wikipedia.org/wiki/Closure_(computer_programming)).\n",
    "\n",
    "The `__init__` method simply stores the arguments passed. None of them is evaluated when the function is defined.\n",
    "\n",
    "The environment is used when the function is called to provide the values of\n",
    "the [*non-local variables*](https://en.wikipedia.org/wiki/Non-local_variable):\n",
    "variables that appear in the body of the function but that\n",
    "are not parameters or local variables.\n",
    "\n",
    "Let's create a `Procedure` \"by-hand\" to see how it works:"
   ]
  },
  {
   "cell_type": "code",
   "execution_count": null,
   "id": "1ac6d778",
   "metadata": {},
   "outputs": [],
   "source": [
    "double = Procedure(['n'], ['*', 'n', 2], standard_env())\n",
    "double(4)"
   ]
  },
  {
   "cell_type": "markdown",
   "id": "b02d4694",
   "metadata": {},
   "source": [
    "## Evaluate with `lambda`, `if`, and `quote`\n",
    "\n",
    "To transform the calculator into a worthy subset of Scheme, we need to support user defined functions, conditionals and the `(quote …)` form to handle S-expressions as data—instead of evaluating them.\n"
   ]
  },
  {
   "cell_type": "code",
   "execution_count": null,
   "id": "0d24fc3d",
   "metadata": {},
   "outputs": [],
   "source": [
    "def evaluate(x: Expression, env: Environment) -> Any:\n",
    "    \"Evaluate an expression in an environment.\"\n",
    "    if isinstance(x, str):                       # variable reference\n",
    "        return env[x]\n",
    "    elif not isinstance(x, list):                # constant literal\n",
    "        return x\n",
    "    elif x[0] == 'define':                       # (define var exp)\n",
    "        _, var, exp = x\n",
    "        env[var] = evaluate(exp, env)\n",
    "    elif x[0] == 'lambda':                       # (lambda (var...) body)\n",
    "        _, parms, body = x\n",
    "        return Procedure(parms, body, env)\n",
    "    elif x[0] == 'quote':                        # (quote exp)\n",
    "        _, exp = x\n",
    "        return exp\n",
    "    elif x[0] == 'if':                           # (if test consequence alternative)\n",
    "        _, test, consequence, alternative = x\n",
    "        if evaluate(test, env):\n",
    "            return evaluate(consequence, env)\n",
    "        else:\n",
    "            return evaluate(alternative, env)\n",
    "    else:                                        # (proc arg...)\n",
    "        proc_exp, *args = x\n",
    "        proc = evaluate(proc_exp, env)\n",
    "        arg_values = [evaluate(exp, env) for exp in args]\n",
    "        return proc(*arg_values)"
   ]
  },
  {
   "cell_type": "markdown",
   "id": "01fbcadf",
   "metadata": {},
   "source": [
    "### Evaluate `(lambda (var…) body)`\n",
    "\n",
    "```python\n",
    "    elif x[0] == 'lambda':                       \n",
    "        _, parms, body = x\n",
    "        return Procedure(parms, body, env)\n",
    "```\n",
    "\n",
    "If the expression is a `list` starting with the keyword `lambda`, followed by a list of 0 or more symbols, and a single `body` expression, then build and return a `Procedure`.\n",
    "\n",
    "Example:"
   ]
  },
  {
   "cell_type": "code",
   "execution_count": null,
   "id": "79596757",
   "metadata": {},
   "outputs": [],
   "source": [
    "percent = run('(lambda (a b) (* (/ a b) 100))')\n",
    "percent(15, 20)"
   ]
  },
  {
   "cell_type": "markdown",
   "id": "b4021852",
   "metadata": {},
   "source": [
    "The result of `(lambda …)` is an anonymous function, so it is not stored in the environment. To create a named function, use `lambda` with `define`.\n",
    "\n",
    "> **NOTE**: This version of `lis.py` only accepts a single expression as the `body` of the function. Use `(begin …)` to wrap multiple expressions. The result of the function will be the value of the last expression."
   ]
  },
  {
   "cell_type": "markdown",
   "id": "23817d89",
   "metadata": {},
   "source": [
    "### Evaluate `(quote exp)`\n",
    "\n",
    "```python\n",
    "    elif x[0] == 'quote':\n",
    "        _, exp = x\n",
    "        return exp\n",
    "```\n",
    "\n",
    "If the expression is a `list` starting with the keyword `quote` followed by a single expression, return the expression without evaluating it.\n",
    "\n",
    "Examples:"
   ]
  },
  {
   "cell_type": "code",
   "execution_count": null,
   "id": "cd9cd735",
   "metadata": {},
   "outputs": [],
   "source": [
    "run('(quote no-such-name)')  # undefined symbol, would raise error if evaluated"
   ]
  },
  {
   "cell_type": "code",
   "execution_count": null,
   "id": "95128ffb",
   "metadata": {},
   "outputs": [],
   "source": [
    "run('(quote (99 bottles of beer))')  # 99 is not the name of a function or reserved word"
   ]
  },
  {
   "cell_type": "code",
   "execution_count": null,
   "id": "9ba4f06c",
   "metadata": {},
   "outputs": [],
   "source": [
    "run('(quote (/ 10 0))')  # this would raise division by zero if evaluated"
   ]
  },
  {
   "cell_type": "markdown",
   "id": "71162cb6",
   "metadata": {},
   "source": [
    "### Evaluate `(if test consequence alternative)`\n",
    "\n",
    "```python\n",
    "    elif x[0] == 'if':\n",
    "        _, test, consequence, alternative = x\n",
    "        if evaluate(test, env):\n",
    "            return evaluate(consequence, env)\n",
    "        else:\n",
    "            return evaluate(alternative, env)\n",
    "```\n",
    "\n",
    "If the expression is a `list` starting with the keyword `if`, followed by exactly three expressions, evaluate `test`. If true, evaluate `consequence`; otherwise evaluate `alternative`.\n",
    "\n",
    "Example:"
   ]
  },
  {
   "cell_type": "code",
   "execution_count": null,
   "id": "d9ab8fd0",
   "metadata": {},
   "outputs": [],
   "source": [
    "run('(if (= 3 3) 1 0)')"
   ]
  },
  {
   "cell_type": "code",
   "execution_count": null,
   "id": "cbb721cc",
   "metadata": {},
   "outputs": [],
   "source": [
    "run('(if (= 3 30) 1 0)')"
   ]
  },
  {
   "cell_type": "code",
   "execution_count": null,
   "id": "6dde8f00",
   "metadata": {},
   "outputs": [],
   "source": [
    "source = '''\n",
    "(define pass-fail\n",
    "    (lambda (grade)\n",
    "        (if (>= grade 5)\n",
    "            (quote PASS)\n",
    "            (quote FAIL))))\n",
    "(pass-fail 7)\n",
    "'''\n",
    "run(source)"
   ]
  },
  {
   "cell_type": "markdown",
   "id": "55d6ff2d",
   "metadata": {},
   "source": [
    "## The REPL\n",
    "\n",
    "Norvig's REPL (Read-Eval-Print-Loop) is easy to undersand but not user-friendly.\n",
    "If no command-line arguments are given to _lis.py_,\n",
    "the `repl()` function is invoked by `main()`—defined at the end of the module.\n",
    "At the `lis.py>` prompt we must enter correct and complete expressions—if\n",
    "we forget to close one parenthesis, _lis.py_ crashes.\n",
    "\n",
    "> **NOTE**: As I studied Norvig's _lis.py_ and _lispy.py_, I started a fork named\n",
    "  [`mylis`](https://github.com/fluentpython/lispy/blob/main/mylis)\n",
    "  which adds some features, including a REPL that accepts partial S-expressions\n",
    "  and prompts for the continuation, similar to how Python's REPL\n",
    "  knows we are not finished and presents the secondary prompt `...` until\n",
    "  we enter a complete expression or statement that can be evaluated.\n",
    "  `mylis` also handles a few errors gracefully, but it's still easy to crash.\n"
   ]
  },
  {
   "cell_type": "code",
   "execution_count": null,
   "id": "94fe43ae",
   "metadata": {},
   "outputs": [],
   "source": [
    "def repl(prompt: str = 'lis.py> ') -> NoReturn:\n",
    "    \"A prompt-read-evaluate-print loop.\"\n",
    "    global_env: Environment = standard_env()\n",
    "    while True:\n",
    "        val = evaluate(parse(input(prompt)), global_env)\n",
    "        if val is not None:\n",
    "            print(lispstr(val))\n",
    "\n",
    "\n",
    "def lispstr(exp: object) -> str:\n",
    "    \"Convert a Python object back into a Lisp-readable string.\"\n",
    "    if isinstance(exp, list):\n",
    "        return '(' + ' '.join(map(lispstr, exp)) + ')'\n",
    "    else:\n",
    "        return str(exp)"
   ]
  },
  {
   "cell_type": "markdown",
   "id": "81a5af91",
   "metadata": {},
   "source": [
    "Function `repl` calls `standard_env()` to provide built-in functions for the global environment,\n",
    "then enters an infinite loop reading and parsing each input line,\n",
    "evaluating it in the global environment and displaying the result—unless it's `None`.\n",
    "The `global_env` may be modified by `evaluate`.\n",
    "\n",
    "`lispstr` is the inverse function of `parse`:\n",
    "given a Python object representing an expression,\n",
    "`parse` returns the Scheme source code for it.\n",
    "For example:"
   ]
  },
  {
   "cell_type": "code",
   "execution_count": null,
   "id": "7741420e",
   "metadata": {},
   "outputs": [],
   "source": [
    "lispstr(['+', 32, ['*', ['/', 9, 5], 'c']])"
   ]
  },
  {
   "cell_type": "markdown",
   "id": "4144a9af",
   "metadata": {},
   "source": [
    "## Examples\n",
    "\n",
    "### Simple recursive factorial"
   ]
  },
  {
   "cell_type": "code",
   "execution_count": null,
   "id": "065ca625",
   "metadata": {},
   "outputs": [],
   "source": [
    "fact_src = '''\n",
    "(define ! (lambda (n)\n",
    "    (if (< n 2) \n",
    "        1 \n",
    "        (* n (! (- n 1)))\n",
    ")))\n",
    "\n",
    "(! 5)\n",
    "'''\n",
    "run(fact_src)"
   ]
  },
  {
   "cell_type": "markdown",
   "id": "fc5eeb3c",
   "metadata": {},
   "source": [
    "### Quicksort\n",
    "\n",
    "Tony Hoare's elegant [recursive sorting algorithm](https://en.wikipedia.org/wiki/Quicksort).\n",
    "\n",
    "Note the use of `quote` to create a list of numbers, and the use of Scheme list handling functions: `null?`, `car`, `cdr`, `append`, `list`, and `filter`."
   ]
  },
  {
   "cell_type": "code",
   "execution_count": null,
   "id": "59903dd6",
   "metadata": {},
   "outputs": [],
   "source": [
    "quicksort_src = \"\"\"\n",
    "(define quicksort (lambda (lst)\n",
    "    (if (null? lst)\n",
    "        lst\n",
    "        (begin\n",
    "            (define pivot (car lst))\n",
    "            (define rest (cdr lst))\n",
    "            (append\n",
    "                (quicksort\n",
    "                    (filter (lambda (x) (< x pivot)) rest))\n",
    "                (list pivot)\n",
    "                (quicksort\n",
    "                    (filter (lambda (x) (>= x pivot)) rest)))\n",
    "))))\n",
    "\n",
    "(quicksort (quote (2 1 6 3 4 0 8 9 7 5)))\n",
    "\"\"\"\n",
    "run(quicksort_src)"
   ]
  },
  {
   "cell_type": "markdown",
   "id": "5b4aeb5f",
   "metadata": {},
   "source": [
    "### Square root algorithm\n",
    "\n",
    "This is known as the [Babylonian method](https://en.wikipedia.org/wiki/Methods_of_computing_square_roots#Babylonian_method),\n",
    "an ancient special case of [Newton's method](https://en.wikipedia.org/wiki/Newton%27s_method).\n",
    "This code is adapted from an [example](https://mitpress.mit.edu/sites/default/files/sicp/full-text/sicp/book/node12.html) in the book *Structure and Interpretation of Computer Programs*."
   ]
  },
  {
   "cell_type": "code",
   "execution_count": null,
   "id": "b67f6a35",
   "metadata": {},
   "outputs": [],
   "source": [
    "sqrt_src = \"\"\"\n",
    "(define sqrt (lambda (x)\n",
    "    (sqrt-iter 1.0 x)))\n",
    "    \n",
    "(define sqrt-iter (lambda (guess x)\n",
    "    (if (good-enough? guess x)\n",
    "        guess\n",
    "        (sqrt-iter (improve guess x) x))))\n",
    "        \n",
    "(define good-enough? (lambda (guess x)\n",
    "    (< (abs (- (* guess guess) x)) 0.001)))\n",
    "    \n",
    "(define improve (lambda (guess x)\n",
    "    (average guess (/ x guess))))\n",
    "    \n",
    "(define average (lambda (x y)\n",
    "    (/ (+ x y) 2)))\n",
    "    \n",
    "(sqrt 123454321)\n",
    "\"\"\"\n",
    "run(sqrt_src)"
   ]
  },
  {
   "cell_type": "markdown",
   "id": "c545d822",
   "metadata": {},
   "source": [
    "### Tail-recursive factorial\n",
    "\n",
    "The `factorial-iter` function is tail-recursive: the recursive call is returned as the result. That's a\n",
    "[*tail call*](https://en.wikipedia.org/wiki/Tail_call).\n",
    "\n",
    "In contrast, the [Simple recursive factorial](#Simple-recursive-factorial) is not tail recursive: the result of the recursive call is multiplied by `n` before it is returned."
   ]
  },
  {
   "cell_type": "code",
   "execution_count": null,
   "id": "6f450e95",
   "metadata": {},
   "outputs": [],
   "source": [
    "fact_src = '''\n",
    "(define ! (lambda (n)\n",
    "    (factorial-iter n 1)))\n",
    "\n",
    "(define factorial-iter\n",
    "    (lambda (n product)\n",
    "        (if (= n 1)\n",
    "            product\n",
    "            (factorial-iter (- n 1) (* n product))\n",
    "        )\n",
    "    )\n",
    ")\n",
    "      \n",
    "(! 5)\n",
    "'''\n",
    "run(fact_src)"
   ]
  },
  {
   "cell_type": "markdown",
   "id": "e1dd71ca",
   "metadata": {},
   "source": [
    "> **NOTE**: `lis.py` does not implement proper tail calls (PTC)—a.k.a. tail call optimization (TCO).\n",
    "Therefore, there is no advantage in writing tail recursive functions. But\n",
    "[`lispy.py`](https://github.com/norvig/pytudes/blob/main/py/lispy.py) and\n",
    "[`mylis_2`](https://github.com/fluentpython/lispy/blob/main/mylis/mylis_2/lis.py) implement PTC, so tail-recursion does not grow the stack, and tail-recursive code is more efficient."
   ]
  },
  {
   "cell_type": "markdown",
   "id": "380e9f8e",
   "metadata": {},
   "source": [
    "### Greatest common divisor\n",
    "\n",
    "The [Euclidean algorihm](https://en.wikipedia.org/wiki/Euclidean_algorithm).\n",
    "\n",
    "> **NOTE**: This is example uses `lambda` inside `define` instead of the shortcut `define` form listed in \n",
    "[Scheme Syntax](#Scheme-Syntax), which creates named procedures directly. See discussion below."
   ]
  },
  {
   "cell_type": "code",
   "execution_count": null,
   "id": "71327b06",
   "metadata": {},
   "outputs": [],
   "source": [
    "gcd_src = '''\n",
    "(define mod (lambda (m n)\n",
    "    (- m (* n (quotient m n)))))\n",
    "\n",
    "(define gcd (lambda (m n)\n",
    "    (if (= n 0)\n",
    "        m\n",
    "        (gcd n (mod m n)))))\n",
    "\n",
    "(gcd 18 45)\n",
    "'''\n",
    "run(gcd_src)"
   ]
  },
  {
   "cell_type": "markdown",
   "id": "61c972a9",
   "metadata": {},
   "source": [
    "## Syntactic sugar\n",
    "\n",
    "Standard Scheme provides an alternative syntax for `define` that allows defining named functions without `lambda`.\n",
    "\n",
    "The syntax is: `(define (name parms…) body…)`, where:\n",
    "\n",
    "`name`: the name of the function to be defined (a `Symbol`);\n",
    "\n",
    "`parms…`: 0 or more symbols declaring the parameter names;\n",
    "\n",
    "`body…`: 1 or more expressions to be used as the body of the function.\n",
    "\n",
    "That's is an example of _syntactic sugar_: new syntax that does not add any functionality to the language, but makes it more convenient to use.\n",
    "\n",
    "The version of `gcd` shown in [Scheme Syntax](#Scheme-Syntax) uses that shortcut syntax. Here it is again:\n",
    "\n",
    "```lisp\n",
    "(define (mod m n)\n",
    "    (- m (* n (quotient m n))))\n",
    "\n",
    "(define (gcd m n)\n",
    "    (if (= n 0)\n",
    "        m\n",
    "        (gcd n (mod m n))))\n",
    "\n",
    "(gcd 18 45)\n",
    "```\n",
    "\n",
    "### Take-home exercise\n",
    "\n",
    "Check your understanding of `lis.py` by implementing the shortcut syntax of `define` in the `evaluate()` function.\n",
    "Test your work by running the example below. The result should be 9.\n"
   ]
  },
  {
   "cell_type": "code",
   "execution_count": null,
   "id": "268add9b",
   "metadata": {},
   "outputs": [],
   "source": [
    "gcd2_src = '''\n",
    "(define (mod m n)\n",
    "    (- m (* n (quotient m n))))\n",
    "\n",
    "(define (gcd m n)\n",
    "    (if (= n 0)\n",
    "        m\n",
    "        (gcd n (mod m n))))\n",
    "\n",
    "(gcd 18 45)\n",
    "'''\n",
    "# run(gcd2_src)"
   ]
  },
  {
   "cell_type": "code",
   "execution_count": null,
   "id": "9a94c85e",
   "metadata": {},
   "outputs": [],
   "source": []
  }
 ],
 "metadata": {
  "kernelspec": {
   "display_name": "Python 3 (ipykernel)",
   "language": "python",
   "name": "python3"
  },
  "language_info": {
   "codemirror_mode": {
    "name": "ipython",
    "version": 3
   },
   "file_extension": ".py",
   "mimetype": "text/x-python",
   "name": "python",
   "nbconvert_exporter": "python",
   "pygments_lexer": "ipython3",
   "version": "3.7.12"
  }
 },
 "nbformat": 4,
 "nbformat_minor": 5
}
